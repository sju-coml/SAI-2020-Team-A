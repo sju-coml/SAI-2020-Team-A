{
 "cells": [
  {
   "cell_type": "markdown",
   "metadata": {},
   "source": [
    "# Covid-19 Forecasting using an RNN"
   ]
  },
  {
   "cell_type": "markdown",
   "metadata": {},
   "source": [
    "# 1. Introduction"
   ]
  },
  {
   "cell_type": "markdown",
   "metadata": {},
   "source": [
    "The goal of this notebook is very simple: Generate additional features from the Covid19-global-forecasting dataset and feed it into an RNN. The RNN will take as inputs:\n",
    "*     number of cases for 13 days\n",
    "*     number of fatalities for 13 days\n",
    "*     restrictions applied for the area in the past 13 days\n",
    "*     quarantine applied for the area in the past 13 days\n",
    "*     school opened or closed for the area in the past 13 days\n",
    "*     additional information related to the area (population, density, number of hospital beds, lung measurement, number of centenarian people) \n",
    "\n",
    "as outputs:\n",
    "*    number of cases for the 14th day\n",
    "*    number of fatalities for the 14th day"
   ]
  },
  {
   "cell_type": "markdown",
   "metadata": {},
   "source": [
    "- 13 일 동안의 사례 수\n",
    "- 13 일 동안 사망자 수\n",
    "- 지난 13 일 동안 해당 지역에 적용되는 제한 사항\n",
    "- 지난 13 일 동안 해당 지역에 검역소가 적용됨\n",
    "- 지난 13 일 동안 학교가 개설 또는 폐쇄\n",
    "- 해당 지역과 관련된 추가 정보 (인구, 밀도, 병상 수, 폐 측정, 100 세 인구 수)"
   ]
  },
  {
   "cell_type": "markdown",
   "metadata": {},
   "source": [
    "## Update notes"
   ]
  },
  {
   "cell_type": "markdown",
   "metadata": {},
   "source": [
    "* **V5**: Submission pipeline fixed - *score: 3.67449*\n",
    "* **V6**: New RNN architecture with two separate branches for each output - *score: 3.26619*\n",
    "* **V8**: Add a post-processing step checking if the model's output is equal or greater the previous value - *score: 2.73282*\n",
    "* **V9**: Change the MSE losses to RMSLE - *score: 1.76123*\n",
    "* **V11**: Change the outputs' activation fucntions from linear to ReLU - *score: 1.60605*\n",
    "* **V12**: Use a 2-week period for predictions instead of 1. Replace the SimpleRNN layers with LSTM layers - *score: 1.26466*\n",
    "* **V13**: Fix bug in Cell 4 (flagged by [@jeremyoudin](https://www.kaggle.com/jeremyoudin)) which made the dataset much larger due to duplicates and also created a leakage between the training and validation sets - *score: 1.46697*\n",
    "* **V15**: Start introducing new inputs from the [enriched dataset](https://www.kaggle.com/optimo/covid19-enriched-dataset-week-2) by [@optimo](https://www.kaggle.com/optimo) and fix a bug which prevented the generation of 25% of the training data - *score: 1.03853*\n",
    "* **V16**: Add a new input to the model based on the coutries' total population. It is added as a separate input as it is not temporal like all previous inputs - *score: 1.02947*\n",
    "* **V19**: Use additional inputs using the enriched dataset. It makes the model more complex and harder to train but might be worth it! *score: 1.05385*\n",
    "* **V20**: Allow a 50% overlap between sequences when generating the dataset to double its size. It creates a minor leakage between the training and validation set so it will eventually needs to be fixed. I was curious to see how it would affect performances. Beside that, it appears that the model's training phase is not perfectly stable, with the \"fatality\" branch not always converging. *score: 1.08343*\n",
    "* **V21**: Add new figures across the notebook and a function at the end of the notebook to visualise the predictions over the period of time defined for the Public Leaderboard. - *score: 1.02837*\n",
    "* **V26**: Update the notebook to compare with the latest data, fix minor errors, new charts to visualise long term predictions, and add a conclusion at the end.\n",
    "* **V27**: Now running on data from COVID19 Global Forecasting (Week 3) and all dates for predictions have been updated accordingly.\n",
    "* **V31**: Fixed a bug in the way inputs are fed to the model (flagged by [@SebastianPine](https://www.kaggle.com/sebastianpine) ). The model's ability to learn sequential information from the inputs should be dramatically increased.\n",
    "* **V32**: Add data about the number of centenarian people among the countries/regions' populations in the inputs to the model.\n",
    "\n",
    "*PS: Please note that the scores may have change slightly. I assume that the evaluation process is updated as new data is coming in for the period from 19/03/2020 to 01/04/2020. Moreover, most of the scores were on Week 2 of this competition.*"
   ]
  },
  {
   "cell_type": "code",
   "execution_count": 3,
   "metadata": {
    "_cell_guid": "b1076dfc-b9ad-4769-8c92-a6c4dae69d19",
    "_uuid": "8f2839f25d086af736a60e9eeb907d3b93b6e0e5"
   },
   "outputs": [
    {
     "ename": "ModuleNotFoundError",
     "evalue": "No module named 'shapely'",
     "output_type": "error",
     "traceback": [
      "\u001b[1;31m---------------------------------------------------------------------------\u001b[0m",
      "\u001b[1;31mModuleNotFoundError\u001b[0m                       Traceback (most recent call last)",
      "\u001b[1;32m<ipython-input-3-0048ac19af16>\u001b[0m in \u001b[0;36m<module>\u001b[1;34m\u001b[0m\n\u001b[0;32m      2\u001b[0m \u001b[1;32mimport\u001b[0m \u001b[0mpandas\u001b[0m \u001b[1;32mas\u001b[0m \u001b[0mpd\u001b[0m\u001b[1;33m\u001b[0m\u001b[1;33m\u001b[0m\u001b[0m\n\u001b[0;32m      3\u001b[0m \u001b[1;31m#import geopandas as gpd\u001b[0m\u001b[1;33m\u001b[0m\u001b[1;33m\u001b[0m\u001b[1;33m\u001b[0m\u001b[0m\n\u001b[1;32m----> 4\u001b[1;33m \u001b[1;32mfrom\u001b[0m \u001b[0mshapely\u001b[0m\u001b[1;33m.\u001b[0m\u001b[0mgeometry\u001b[0m \u001b[1;32mimport\u001b[0m \u001b[0mPoint\u001b[0m\u001b[1;33m\u001b[0m\u001b[1;33m\u001b[0m\u001b[0m\n\u001b[0m\u001b[0;32m      5\u001b[0m \u001b[1;32mimport\u001b[0m \u001b[0mos\u001b[0m\u001b[1;33m\u001b[0m\u001b[1;33m\u001b[0m\u001b[0m\n\u001b[0;32m      6\u001b[0m \u001b[1;32mimport\u001b[0m \u001b[0mtensorflow\u001b[0m \u001b[1;32mas\u001b[0m \u001b[0mtf\u001b[0m\u001b[1;33m\u001b[0m\u001b[1;33m\u001b[0m\u001b[0m\n",
      "\u001b[1;31mModuleNotFoundError\u001b[0m: No module named 'shapely'"
     ]
    }
   ],
   "source": [
    "import numpy as np\n",
    "import pandas as pd\n",
    "import geopandas as gpd \n",
    "from shapely.geometry import Point\n",
    "import os\n",
    "import tensorflow as tf\n",
    "from tqdm import tqdm\n",
    "from sklearn.utils import shuffle\n",
    "from sklearn.metrics import mean_squared_log_error\n",
    "\n",
    "from datetime import datetime\n",
    "from datetime import timedelta\n",
    "\n",
    "from tensorflow.keras import layers\n",
    "from tensorflow.keras import Input\n",
    "from tensorflow.keras.models import Model\n",
    "from tensorflow.keras.callbacks import ModelCheckpoint, ReduceLROnPlateau, EarlyStopping\n",
    "\n",
    "import matplotlib.pyplot as plt\n",
    "import seaborn as sns\n",
    "sns.set()\n",
    "\n",
    "# input 데이터의 path확인?\n",
    "for dirname, _, filenames in os.walk('/kaggle/input'):\n",
    "    for filename in filenames:\n",
    "        print(os.path.join(dirname, filename))\n",
    "        \n",
    "# + 위의 enriched dataset을 가져와야함."
   ]
  },
  {
   "cell_type": "markdown",
   "metadata": {},
   "source": [
    "# 2. Preparing the training data"
   ]
  },
  {
   "cell_type": "code",
   "execution_count": null,
   "metadata": {},
   "outputs": [],
   "source": [
    "#Still using the enriched data from week 3 as there is everything required for the model's training\n",
    "\n",
    "#2주차 데이터를 가져와서 사용\n",
    "train_df = gpd.read_file(\"/kaggle/input/enriched-covid-19-week2/enriched_covid_19_week_2.csv\")\n",
    "train_df[\"Country_Region\"] = [country_name.replace(\"'\",\"\") for country_name in train_df[\"Country_Region\"]]\n",
    "train_df[\"restrictions\"] = train_df[\"restrictions\"].astype(\"int\")\n",
    "train_df[\"quarantine\"] = train_df[\"quarantine\"].astype(\"int\")\n",
    "train_df[\"schools\"] = train_df[\"schools\"].astype(\"int\")\n",
    "train_df[\"total_pop\"] = train_df[\"total_pop\"].astype(\"float\")\n",
    "train_df[\"density\"] = train_df[\"density\"].astype(\"float\")\n",
    "train_df[\"hospibed\"] = train_df[\"hospibed\"].astype(\"float\")\n",
    "train_df[\"lung\"] = train_df[\"lung\"].astype(\"float\")\n",
    "\n",
    "# 왜 max데이터로 나누는지?\n",
    "train_df[\"total_pop\"] = train_df[\"total_pop\"]/max(train_df[\"total_pop\"])\n",
    "train_df[\"density\"] = train_df[\"density\"]/max(train_df[\"density\"])\n",
    "train_df[\"hospibed\"] = train_df[\"hospibed\"]/max(train_df[\"hospibed\"])\n",
    "train_df[\"lung\"] = train_df[\"lung\"]/max(train_df[\"lung\"])\n",
    "train_df[\"age_100+\"] = train_df[\"age_100+\"].astype(\"float\")\n",
    "train_df[\"age_100+\"] = train_df[\"age_100+\"]/max(train_df[\"age_100+\"])\n",
    "train_df.head()"
   ]
  },
  {
   "cell_type": "markdown",
   "metadata": {},
   "source": [
    "As I was using an enriched dataset during the Week 2 competition, I have to add the new countries to my dataframe and fill the missing data with median values."
   ]
  },
  {
   "cell_type": "code",
   "execution_count": null,
   "metadata": {},
   "outputs": [],
   "source": [
    "week3_df = gpd.read_file(\"/kaggle/input/covid19-global-forecasting-week-3/train.csv\")\n",
    "week3_df[\"ConfirmedCases\"] = week3_df[\"ConfirmedCases\"].astype(\"float\")\n",
    "week3_df[\"Fatalities\"] = week3_df[\"Fatalities\"].astype(\"float\")\n",
    "#The country_region got modifying in the enriched dataset by @optimo, \n",
    "# so we have to apply the same change to this Dataframe.\n",
    "week3_df[\"Country_Region\"] = [ row.Country_Region.replace(\"'\",\"\").strip(\" \") if row.Province_State==\"\" else str(row.Country_Region+\"_\"+row.Province_State).replace(\"'\",\"\").strip(\" \") for idx,row in week3_df.iterrows()]\n",
    "\n",
    "\n",
    "# null 데이터를 중앙값으로 채우기\n",
    "median_pop = np.median(train_df.total_pop)\n",
    "median_hospibed = np.median(train_df.hospibed)\n",
    "median_density = np.median(train_df.density)\n",
    "median_lung = np.median(train_df.lung)\n",
    "median_centenarian_pop = np.median(train_df[\"age_100+\"])\n",
    "\n",
    "#need to replace that with a joint using Pandas\n",
    "print(\"The missing countries/region are:\")\n",
    "for country_region in week3_df.Country_Region.unique():\n",
    "    if train_df.query(\"Country_Region=='\"+country_region+\"'\").empty:\n",
    "        print(country_region)\n",
    "        add_df = week3_df.query(\"Country_Region=='\"+country_region+\"'\")\n",
    "        add_df[\"total_pop\"] = median_pop\n",
    "        add_df[\"hospibed\"] = median_hospibed\n",
    "        add_df[\"density\"] = median_density\n",
    "        add_df[\"lung\"] = median_lung\n",
    "        add_df[\"age_100+\"] = median_centenarian_pop\n",
    "        add_df[\"restrictions\"] = 0\n",
    "        add_df[\"quarantine\"] = 0\n",
    "        add_df[\"schools\"] = 0\n",
    "        train_df = train_df.append(add_df, sort=True)"
   ]
  },
  {
   "cell_type": "markdown",
   "metadata": {},
   "source": [
    "I create a new dataframe where I will only store 13-day trends for each location with the resulting numbers on the 14th day. The time periods extracted do not overlap on purpose."
   ]
  },
  {
   "cell_type": "code",
   "execution_count": null,
   "metadata": {},
   "outputs": [],
   "source": [
    "# trend_df : 14 일째 결과 숫자와 각 위치에 대해 13 일 간의 추세 만 저장하는 df\n",
    "\n",
    "trend_df = pd.DataFrame(columns={\"infection_trend\",\"fatality_trend\",\"quarantine_trend\",\"school_trend\",\"total_population\",\"expected_cases\",\"expected_fatalities\"})"
   ]
  },
  {
   "cell_type": "code",
   "execution_count": null,
   "metadata": {},
   "outputs": [],
   "source": [
    "#Just getting rid of the first days to have a multiple of 14\n",
    "#Makes it easier to generate the sequences\n",
    "train_df = train_df.query(\"Date>'2020-01-22'and Date<='2020-03-25'\")\n",
    "days_in_sequence = 14\n",
    "\n",
    "trend_list = []\n",
    "\n",
    "# with tqdm as pbar : 상태바 업데이트\n",
    "with tqdm(total=len(list(train_df.Country_Region.unique()))) as pbar:\n",
    "    for country in train_df.Country_Region.unique():\n",
    "        for province in train_df.query(f\"Country_Region=='{country}'\").Province_State.unique():\n",
    "            province_df = train_df.query(f\"Country_Region=='{country}' and Province_State=='{province}'\")\n",
    "            \n",
    "            #I added a quick hack to double the number of sequences\n",
    "            #Warning: This will later create a minor leakage from the \n",
    "            # training set into the validation set.\n",
    "            for i in range(0,len(province_df),int(days_in_sequence/2)):\n",
    "                if i+days_in_sequence<=len(province_df):\n",
    "                    #prepare all the temporal inputs\n",
    "                    infection_trend = [float(x) for x in province_df[i:i+days_in_sequence-1].ConfirmedCases.values]\n",
    "                    fatality_trend = [float(x) for x in province_df[i:i+days_in_sequence-1].Fatalities.values]\n",
    "                    restriction_trend = [float(x) for x in province_df[i:i+days_in_sequence-1].restrictions.values]\n",
    "                    quarantine_trend = [float(x) for x in province_df[i:i+days_in_sequence-1].quarantine.values]\n",
    "                    school_trend = [float(x) for x in province_df[i:i+days_in_sequence-1].schools.values]\n",
    "\n",
    "                    #preparing all the demographic inputs\n",
    "                    total_population = float(province_df.iloc[i].total_pop)\n",
    "                    density = float(province_df.iloc[i].density)\n",
    "                    hospibed = float(province_df.iloc[i].hospibed)\n",
    "                    lung = float(province_df.iloc[i].lung)\n",
    "                    centenarian_pop = float(province_df.iloc[i][\"age_100+\"])\n",
    "\n",
    "                    expected_cases = float(province_df.iloc[i+days_in_sequence-1].ConfirmedCases)\n",
    "                    expected_fatalities = float(province_df.iloc[i+days_in_sequence-1].Fatalities)\n",
    "\n",
    "                    trend_list.append({\"infection_trend\":infection_trend,\n",
    "                                     \"fatality_trend\":fatality_trend,\n",
    "                                     \"restriction_trend\":restriction_trend,\n",
    "                                     \"quarantine_trend\":quarantine_trend,\n",
    "                                     \"school_trend\":school_trend,\n",
    "                                     \"demographic_inputs\":[total_population,density,hospibed,lung,centenarian_pop],\n",
    "                                     \"expected_cases\":expected_cases,\n",
    "                                     \"expected_fatalities\":expected_fatalities})\n",
    "        pbar.update(1)\n",
    "trend_df = pd.DataFrame(trend_list)"
   ]
  },
  {
   "cell_type": "markdown",
   "metadata": {},
   "source": [
    "Preparing the inputs and shuffling the dataframe to make sure we have a bit of everything in our training and validation set."
   ]
  },
  {
   "cell_type": "code",
   "execution_count": null,
   "metadata": {},
   "outputs": [],
   "source": [
    "trend_df[\"temporal_inputs\"] = [np.asarray([trends[\"infection_trend\"],trends[\"fatality_trend\"],trends[\"restriction_trend\"],trends[\"quarantine_trend\"],trends[\"school_trend\"]]) for idx,trends in trend_df.iterrows()]\n",
    "\n",
    "# shuffle() : 배열을 랜덤하게 섞기\n",
    "# training data와 validation데이터의 모든 것을 가지고있는지 확인하기 위해?\n",
    "trend_df = shuffle(trend_df)"
   ]
  },
  {
   "cell_type": "code",
   "execution_count": null,
   "metadata": {},
   "outputs": [],
   "source": [
    "trend_df.head()"
   ]
  },
  {
   "cell_type": "markdown",
   "metadata": {},
   "source": [
    "Only keeping 25 sequences where the number of cases stays at 0, as there were way too many of these samples in our dataset."
   ]
  },
  {
   "cell_type": "code",
   "execution_count": null,
   "metadata": {},
   "outputs": [],
   "source": [
    "i=0\n",
    "temp_df = pd.DataFrame()\n",
    "for idx,row in trend_df.iterrows():\n",
    "    if sum(row.infection_trend)>0:\n",
    "        temp_df = temp_df.append(row)\n",
    "    else:\n",
    "        if i<25:\n",
    "            temp_df = temp_df.append(row)\n",
    "            i+=1\n",
    "trend_df = temp_df"
   ]
  },
  {
   "cell_type": "code",
   "execution_count": null,
   "metadata": {},
   "outputs": [],
   "source": [
    "trend_df.head()"
   ]
  },
  {
   "cell_type": "markdown",
   "metadata": {},
   "source": [
    "Splitting my dataset with 90% for training and 10% for validation"
   ]
  },
  {
   "cell_type": "code",
   "execution_count": 25,
   "metadata": {},
   "outputs": [],
   "source": [
    "sequence_length = 13\n",
    "training_percentage = 0.9\n",
    "\n",
    "# validation percentage = 0.1"
   ]
  },
  {
   "cell_type": "code",
   "execution_count": null,
   "metadata": {},
   "outputs": [],
   "source": [
    "training_item_count = int(len(trend_df)*training_percentage)\n",
    "validation_item_count = len(trend_df)-int(len(trend_df)*training_percentage)\n",
    "training_df = trend_df[:training_item_count]\n",
    "validation_df = trend_df[training_item_count:]"
   ]
  },
  {
   "cell_type": "code",
   "execution_count": null,
   "metadata": {},
   "outputs": [],
   "source": [
    "X_temporal_train = np.asarray(np.transpose(np.reshape(np.asarray([np.asarray(x) for x in training_df[\"temporal_inputs\"].values]),(training_item_count,5,sequence_length)),(0,2,1) )).astype(np.float32)\n",
    "X_demographic_train = np.asarray([np.asarray(x) for x in training_df[\"demographic_inputs\"]]).astype(np.float32)\n",
    "Y_cases_train = np.asarray([np.asarray(x) for x in training_df[\"expected_cases\"]]).astype(np.float32)\n",
    "Y_fatalities_train = np.asarray([np.asarray(x) for x in training_df[\"expected_fatalities\"]]).astype(np.float32)"
   ]
  },
  {
   "cell_type": "code",
   "execution_count": null,
   "metadata": {},
   "outputs": [],
   "source": [
    "X_temporal_test = np.asarray(np.transpose(np.reshape(np.asarray([np.asarray(x) for x in validation_df[\"temporal_inputs\"]]),(validation_item_count,5,sequence_length)),(0,2,1)) ).astype(np.float32)\n",
    "X_demographic_test = np.asarray([np.asarray(x) for x in validation_df[\"demographic_inputs\"]]).astype(np.float32)\n",
    "Y_cases_test = np.asarray([np.asarray(x) for x in validation_df[\"expected_cases\"]]).astype(np.float32)\n",
    "Y_fatalities_test = np.asarray([np.asarray(x) for x in validation_df[\"expected_fatalities\"]]).astype(np.float32)"
   ]
  },
  {
   "cell_type": "markdown",
   "metadata": {},
   "source": [
    "# 3. Build the model"
   ]
  },
  {
   "cell_type": "markdown",
   "metadata": {},
   "source": [
    "The model is very simple in terms of architecture. The only difference from what could traditionally be seen is that it has two outputs so we can have two different losses (one for the expected number of cases and for the expected number of fatalities)."
   ]
  },
  {
   "attachments": {
    "Diagram-Covid-model.png": {
     "image/png": "[encoded data removed]"
    }
   },
   "cell_type": "markdown",
   "metadata": {},
   "source": [
    "![Diagram-Covid-model.png](attachment:Diagram-Covid-model.png)"
   ]
  },
  {
   "cell_type": "code",
   "execution_count": null,
   "metadata": {},
   "outputs": [],
   "source": [
    "#temporal input branch\n",
    "temporal_input_layer = Input(shape=(sequence_length,5))\n",
    "main_rnn_layer = layers.LSTM(64, return_sequences=True, recurrent_dropout=0.2)(temporal_input_layer)\n",
    "\n",
    "#demographic input branch\n",
    "demographic_input_layer = Input(shape=(5))\n",
    "demographic_dense = layers.Dense(16)(demographic_input_layer)\n",
    "demographic_dropout = layers.Dropout(0.2)(demographic_dense)\n",
    "\n",
    "#cases output branch\n",
    "rnn_c = layers.LSTM(32)(main_rnn_layer)\n",
    "merge_c = layers.Concatenate(axis=-1)([rnn_c,demographic_dropout])\n",
    "dense_c = layers.Dense(128)(merge_c)\n",
    "dropout_c = layers.Dropout(0.3)(dense_c)\n",
    "cases = layers.Dense(1, activation=layers.LeakyReLU(alpha=0.1),name=\"cases\")(dropout_c)\n",
    "\n",
    "#fatality output branch\n",
    "rnn_f = layers.LSTM(32)(main_rnn_layer)\n",
    "merge_f = layers.Concatenate(axis=-1)([rnn_f,demographic_dropout])\n",
    "dense_f = layers.Dense(128)(merge_f)\n",
    "dropout_f = layers.Dropout(0.3)(dense_f)\n",
    "fatalities = layers.Dense(1, activation=layers.LeakyReLU(alpha=0.1), name=\"fatalities\")(dropout_f)\n",
    "\n",
    "\n",
    "model = Model([temporal_input_layer,demographic_input_layer], [cases,fatalities])\n",
    "\n",
    "model.summary()"
   ]
  },
  {
   "cell_type": "code",
   "execution_count": null,
   "metadata": {},
   "outputs": [],
   "source": [
    "callbacks = [ReduceLROnPlateau(monitor='val_loss', patience=4, verbose=1, factor=0.6),\n",
    "             EarlyStopping(monitor='val_loss', patience=20),\n",
    "             ModelCheckpoint(filepath='best_model.h5', monitor='val_loss', save_best_only=True)]\n",
    "model.compile(loss=[tf.keras.losses.MeanSquaredLogarithmicError(),tf.keras.losses.MeanSquaredLogarithmicError()], optimizer=\"adam\")"
   ]
  },
  {
   "cell_type": "code",
   "execution_count": null,
   "metadata": {},
   "outputs": [],
   "source": [
    "history = model.fit([X_temporal_train,X_demographic_train], [Y_cases_train, Y_fatalities_train], \n",
    "          epochs = 250, \n",
    "          batch_size = 16, \n",
    "          validation_data=([X_temporal_test,X_demographic_test],  [Y_cases_test, Y_fatalities_test]), \n",
    "          callbacks=callbacks)"
   ]
  },
  {
   "cell_type": "markdown",
   "metadata": {},
   "source": [
    "# 4. Performance during training"
   ]
  },
  {
   "cell_type": "code",
   "execution_count": null,
   "metadata": {},
   "outputs": [],
   "source": [
    "plt.plot(history.history['loss'])\n",
    "plt.plot(history.history['val_loss'])\n",
    "plt.title('Loss over epochs')\n",
    "plt.ylabel('Loss')\n",
    "plt.xlabel('Epoch')\n",
    "plt.legend(['Train', 'Validation'], loc='best')\n",
    "plt.show()"
   ]
  },
  {
   "cell_type": "code",
   "execution_count": null,
   "metadata": {},
   "outputs": [],
   "source": [
    "plt.plot(history.history['cases_loss'])\n",
    "plt.plot(history.history['val_cases_loss'])\n",
    "plt.title('Loss over epochs for the number of cases')\n",
    "plt.ylabel('Loss')\n",
    "plt.xlabel('Epoch')\n",
    "plt.legend(['Train', 'Validation'], loc='best')\n",
    "plt.show()"
   ]
  },
  {
   "cell_type": "code",
   "execution_count": null,
   "metadata": {},
   "outputs": [],
   "source": [
    "plt.plot(history.history['fatalities_loss'])\n",
    "plt.plot(history.history['val_fatalities_loss'])\n",
    "plt.title('Loss over epochs for the number of fatalities')\n",
    "plt.ylabel('Loss')\n",
    "plt.xlabel('Epoch')\n",
    "plt.legend(['Train', 'Validation'], loc='best')\n",
    "plt.show()"
   ]
  },
  {
   "cell_type": "markdown",
   "metadata": {},
   "source": [
    "# 5. Generate predictions using the model"
   ]
  },
  {
   "cell_type": "markdown",
   "metadata": {},
   "source": [
    "We can quickly check the quality of the predictions... One thing is clear, there is room for improvement!"
   ]
  },
  {
   "cell_type": "code",
   "execution_count": null,
   "metadata": {},
   "outputs": [],
   "source": [
    "model.load_weights(\"best_model.h5\")"
   ]
  },
  {
   "cell_type": "code",
   "execution_count": null,
   "metadata": {},
   "outputs": [],
   "source": [
    "predictions = model.predict([X_temporal_test,X_demographic_test])"
   ]
  },
  {
   "cell_type": "markdown",
   "metadata": {},
   "source": [
    "I only display what I call \"temporal\" inputs as we're simply trying to have a feeling of how well our model is fitting the trends."
   ]
  },
  {
   "cell_type": "code",
   "execution_count": null,
   "metadata": {},
   "outputs": [],
   "source": [
    "display_limit = 30\n",
    "for inputs, pred_cases, exp_cases, pred_fatalities, exp_fatalities in zip(X_temporal_test,predictions[0][:display_limit], Y_cases_test[:display_limit], predictions[1][:display_limit], Y_fatalities_test[:display_limit]):\n",
    "    print(\"================================================\")\n",
    "    print(inputs)\n",
    "    print(\"Expected cases:\", exp_cases, \" Prediction:\", pred_cases[0], \"Expected fatalities:\", exp_fatalities, \" Prediction:\", pred_fatalities[0] )"
   ]
  },
  {
   "cell_type": "markdown",
   "metadata": {},
   "source": [
    "# 6. Apply the model to predict future trends"
   ]
  },
  {
   "cell_type": "markdown",
   "metadata": {},
   "source": [
    "The following functions will be used to get the 13 previous days from a given date and demographic information, predict the number of cases and fatalities, before iterating again. Therefore, it will use the prediction for the next day as part of the data for the one afterwards."
   ]
  },
  {
   "cell_type": "code",
   "execution_count": null,
   "metadata": {},
   "outputs": [],
   "source": [
    "#Will retrieve the number of cases and fatalities for the past 6 days from the given date\n",
    "def build_inputs_for_date(country, province, date, df):\n",
    "    start_date = date - timedelta(days=13)\n",
    "    end_date = date - timedelta(days=1)\n",
    "    \n",
    "    str_start_date = start_date.strftime(\"%Y-%m-%d\")\n",
    "    str_end_date = end_date.strftime(\"%Y-%m-%d\")\n",
    "    df = df.query(\"Country_Region=='\"+country+\"' and Province_State=='\"+province+\"' and Date>='\"+str_start_date+\"' and Date<='\"+str_end_date+\"'\")\n",
    "    \n",
    "    #preparing the temporal inputs\n",
    "    temporal_input_data = np.transpose(np.reshape(np.asarray([df[\"ConfirmedCases\"],\n",
    "                                                 df[\"Fatalities\"],\n",
    "                                                 df[\"restrictions\"],\n",
    "                                                 df[\"quarantine\"],\n",
    "                                                 df[\"schools\"]]),\n",
    "                                     (5,sequence_length)), (1,0) ).astype(np.float32)\n",
    "    \n",
    "    #preparing all the demographic inputs\n",
    "    total_population = float(province_df.iloc[i].total_pop)\n",
    "    density = float(province_df.iloc[i].density)\n",
    "    hospibed = float(province_df.iloc[i].hospibed)\n",
    "    lung = float(province_df.iloc[i].lung)\n",
    "    centenarian_pop = float(province_df.iloc[i][\"age_100+\"])\n",
    "    demographic_input_data = [total_population,density,hospibed,lung,centenarian_pop]\n",
    "    \n",
    "    return [np.array([temporal_input_data]), np.array([demographic_input_data])]"
   ]
  },
  {
   "cell_type": "code",
   "execution_count": null,
   "metadata": {},
   "outputs": [],
   "source": [
    "#Take a dataframe in input, will do the predictions and return the dataframe with extra rows\n",
    "#containing the predictions\n",
    "def predict_for_region(country, province, df):\n",
    "    begin_prediction = \"2020-03-26\"\n",
    "    start_date = datetime.strptime(begin_prediction,\"%Y-%m-%d\")\n",
    "    end_prediction = \"2020-05-07\"\n",
    "    end_date = datetime.strptime(end_prediction,\"%Y-%m-%d\")\n",
    "    \n",
    "    date_list = [start_date + timedelta(days=x) for x in range((end_date-start_date).days+1)]\n",
    "    for date in date_list:\n",
    "        input_data = build_inputs_for_date(country, province, date, df)\n",
    "        result = model.predict(input_data)\n",
    "        \n",
    "        #just ensuring that the outputs is\n",
    "        #higher than the previous counts\n",
    "        result[0] = np.round(result[0])\n",
    "        if result[0]<input_data[0][0][-1][0]:\n",
    "            result[0]=np.array([[input_data[0][0][-1][0]]])\n",
    "        \n",
    "        result[1] = np.round(result[1])\n",
    "        if result[1]<input_data[0][0][-1][1]:\n",
    "            result[1]=np.array([[input_data[0][0][-1][1]]])\n",
    "        \n",
    "        #We assign the quarantine and school status\n",
    "        #depending on previous values\n",
    "        #e.g Once a country is locked, it will stay locked until the end\n",
    "        df = df.append({\"Country_Region\":country, \n",
    "                        \"Province_State\":province, \n",
    "                        \"Date\":date.strftime(\"%Y-%m-%d\"), \n",
    "                        \"restrictions\": 1 if any(input_data[0][0][2]) else 0,\n",
    "                        \"quarantine\": 1 if any(input_data[0][0][3]) else 0,\n",
    "                        \"schools\": 1 if any(input_data[0][0][4]) else 0,\n",
    "                        \"total_pop\": input_data[1][0],\n",
    "                        \"density\": input_data[1][0][1],\n",
    "                        \"hospibed\": input_data[1][0][2],\n",
    "                        \"lung\": input_data[1][0][3],\n",
    "                        \"age_100+\": input_data[1][0][4],\n",
    "                        \"ConfirmedCases\":round(result[0][0][0]),\t\n",
    "                        \"Fatalities\":round(result[1][0][0])},\n",
    "                       ignore_index=True)\n",
    "    return df"
   ]
  },
  {
   "cell_type": "code",
   "execution_count": null,
   "metadata": {},
   "outputs": [],
   "source": [
    "#The functions that are called here need to optimise, sorry about that!\n",
    "copy_df = train_df\n",
    "with tqdm(total=len(list(copy_df.Country_Region.unique()))) as pbar:\n",
    "    for country in copy_df.Country_Region.unique():\n",
    "        for province in copy_df.query(\"Country_Region=='\"+country+\"'\").Province_State.unique():\n",
    "            copy_df = predict_for_region(country, province, copy_df)\n",
    "        pbar.update(1)"
   ]
  },
  {
   "cell_type": "markdown",
   "metadata": {},
   "source": [
    "# 7. Check the model's performance for the end of March 2020"
   ]
  },
  {
   "cell_type": "code",
   "execution_count": null,
   "metadata": {},
   "outputs": [],
   "source": [
    "groundtruth_df = gpd.read_file(\"/kaggle/input/covid19-global-forecasting-week-3/train.csv\")\n",
    "\n",
    "groundtruth_df[\"ConfirmedCases\"] = groundtruth_df[\"ConfirmedCases\"].astype(\"float\")\n",
    "groundtruth_df[\"Fatalities\"] = groundtruth_df[\"Fatalities\"].astype(\"float\")\n",
    "#The country_region got modifying in the enriched dataset by @optimo, \n",
    "# so we have to apply the same change to this Dataframe.\n",
    "groundtruth_df[\"Country_Region\"] = [ row.Country_Region.replace(\"'\",\"\").strip(\" \") if row.Province_State==\"\" else str(row.Country_Region+\"_\"+row.Province_State).replace(\"'\",\"\").strip(\" \") for idx,row in groundtruth_df.iterrows()]\n",
    "\n",
    "last_date = groundtruth_df.Date.unique()[-1]"
   ]
  },
  {
   "cell_type": "code",
   "execution_count": null,
   "metadata": {},
   "outputs": [],
   "source": [
    "#to remove annoying warnings from pandas\n",
    "pd.options.mode.chained_assignment = None\n",
    "\n",
    "def get_RMSLE_per_region(region, groundtruth_df, display_only=False):\n",
    "    groundtruth_df[\"ConfirmedCases\"] = groundtruth_df[\"ConfirmedCases\"].astype(\"float\")\n",
    "    groundtruth_df[\"Fatalities\"] = groundtruth_df[\"Fatalities\"].astype(\"float\")\n",
    "    \n",
    "    #we only take data until the 30th of March 2020 as the groundtruth was not available for later dates.\n",
    "    groundtruth = groundtruth_df.query(\"Country_Region=='\"+region+\"' and Date>='2020-03-26' and Date<='\"+last_date+\"'\")\n",
    "    predictions = copy_df.query(\"Country_Region=='\"+region+\"' and Date>='2020-03-26' and Date<='\"+last_date+\"'\")\n",
    "    \n",
    "    RMSLE_cases = np.sqrt(mean_squared_log_error( groundtruth.ConfirmedCases.values, predictions.ConfirmedCases.values ))\n",
    "    RMSLE_fatalities = np.sqrt(mean_squared_log_error( groundtruth.Fatalities.values, predictions.Fatalities.values ))\n",
    "    \n",
    "    if display_only:\n",
    "        print(region)\n",
    "        print(\"RMSLE on cases:\",np.mean(RMSLE_cases))\n",
    "        print(\"RMSLE on fatalities:\",np.mean(RMSLE_fatalities))\n",
    "    else:\n",
    "        return RMSLE_cases, RMSLE_fatalities"
   ]
  },
  {
   "cell_type": "code",
   "execution_count": null,
   "metadata": {},
   "outputs": [],
   "source": [
    "def get_RMSLE_for_all_regions(groundtruth_df):\n",
    "    RMSLE_cases_list = []\n",
    "    RMSLE_fatalities_list = []\n",
    "    for region in groundtruth_df.Country_Region.unique():\n",
    "        RMSLE_cases, RMSLE_fatalities = get_RMSLE_per_region(region, groundtruth_df, False)\n",
    "        RMSLE_cases_list.append(RMSLE_cases)\n",
    "        RMSLE_fatalities_list.append(RMSLE_fatalities)\n",
    "    print(\"RMSLE on cases:\",np.mean(RMSLE_cases_list))\n",
    "    print(\"RMSLE on fatalities:\",np.mean(RMSLE_fatalities_list))"
   ]
  },
  {
   "cell_type": "markdown",
   "metadata": {},
   "source": [
    "We can first check whether one of the outputs is globally harder to predict than the other."
   ]
  },
  {
   "cell_type": "code",
   "execution_count": null,
   "metadata": {},
   "outputs": [],
   "source": [
    "get_RMSLE_for_all_regions(groundtruth_df)"
   ]
  },
  {
   "cell_type": "markdown",
   "metadata": {},
   "source": [
    "Now, let's check how we are performing on two groups:\n",
    "* Countries known to have an outbreak\n",
    "* Countries with relatively \"few\" cases"
   ]
  },
  {
   "cell_type": "code",
   "execution_count": null,
   "metadata": {},
   "outputs": [],
   "source": [
    "badly_affected_countries = [\"France\",\"Italy\",\"United Kingdom\",\"Spain\",\"Iran\",\"Germany\"]\n",
    "for country in badly_affected_countries:\n",
    "    get_RMSLE_per_region(country, groundtruth_df, display_only=True)"
   ]
  },
  {
   "cell_type": "code",
   "execution_count": null,
   "metadata": {},
   "outputs": [],
   "source": [
    "healthy_countries = [\"Taiwan*\",\"Singapore\",\"Kenya\",\"Slovenia\",\"Portugal\", \"Israel\"]\n",
    "for country in healthy_countries:\n",
    "    get_RMSLE_per_region(country, groundtruth_df, display_only=True)"
   ]
  },
  {
   "cell_type": "markdown",
   "metadata": {},
   "source": [
    "# 8. Outputs: Observing the curves"
   ]
  },
  {
   "cell_type": "markdown",
   "metadata": {},
   "source": [
    "I am using the original training CSV file instead of the enriched dataset as it is up-to-date with the latest stats from this week."
   ]
  },
  {
   "cell_type": "code",
   "execution_count": null,
   "metadata": {},
   "outputs": [],
   "source": [
    "def display_comparison(region,groundtruth_df):\n",
    "    groundtruth = groundtruth_df.query(\"Country_Region=='\"+region+\"' and Date>='2020-03-26' and Date<='2020-04-08'\")\n",
    "    prediction = copy_df.query(\"Country_Region=='\"+region+\"' and Date>='2020-03-26' and Date<='2020-04-08'\")\n",
    "    \n",
    "    plt.plot(groundtruth.ConfirmedCases.values)\n",
    "    plt.plot(prediction.ConfirmedCases.values)\n",
    "    plt.title(\"Comparison between the actual data and our predictions for the number of cases\")\n",
    "    plt.ylabel('Number of cases')\n",
    "    plt.xlabel('Date')\n",
    "    plt.xticks(range(len(prediction.Date.values)),prediction.Date.values,rotation='vertical')\n",
    "    plt.legend(['Groundtruth', 'Prediction'], loc='best')\n",
    "    plt.show()\n",
    "    \n",
    "    plt.plot(groundtruth.Fatalities.values)\n",
    "    plt.plot(prediction.Fatalities.values)\n",
    "    plt.title(\"Comparison between the actual data and our predictions for the number of fatalities\")\n",
    "    plt.ylabel('Number of fatalities')\n",
    "    plt.xlabel('Date')\n",
    "    plt.xticks(range(len(prediction.Date.values)),prediction.Date.values,rotation='vertical')\n",
    "    plt.legend(['Groundtruth', 'Prediction'], loc='best')\n",
    "    plt.show()"
   ]
  },
  {
   "cell_type": "code",
   "execution_count": null,
   "metadata": {},
   "outputs": [],
   "source": [
    "display_comparison(\"Canada_Newfoundland and Labrador\", groundtruth_df)"
   ]
  },
  {
   "cell_type": "code",
   "execution_count": null,
   "metadata": {},
   "outputs": [],
   "source": [
    "display_comparison(\"Slovenia\", groundtruth_df)"
   ]
  },
  {
   "cell_type": "code",
   "execution_count": null,
   "metadata": {},
   "outputs": [],
   "source": [
    "display_comparison(\"Kenya\", groundtruth_df)"
   ]
  },
  {
   "cell_type": "markdown",
   "metadata": {},
   "source": [
    "Now let's see how well the model perform on a much longer period."
   ]
  },
  {
   "cell_type": "code",
   "execution_count": null,
   "metadata": {},
   "outputs": [],
   "source": [
    "def display_long_term_prediction(region,groundtruth_df):\n",
    "    groundtruth = groundtruth_df.query(\"Country_Region=='\"+region+\"' and Date>='2020-03-26' and Date<='2020-04-08'\")\n",
    "    prediction = copy_df.query(\"Country_Region=='\"+region+\"' and Date>='2020-03-26' and Date<='2020-05-07'\")\n",
    "    \n",
    "    plt.plot(groundtruth.ConfirmedCases.values)\n",
    "    plt.plot(prediction.ConfirmedCases.values)\n",
    "    plt.title(\"Comparison between the actual data and our predictions for the number of cases\")\n",
    "    plt.ylabel('Number of cases')\n",
    "    plt.xlabel('Date')\n",
    "    plt.xticks(range(len(prediction.Date.values)),prediction.Date.values,rotation='vertical')\n",
    "    plt.legend(['Groundtruth', 'Prediction'], loc='best')\n",
    "    plt.show()\n",
    "    \n",
    "    plt.plot(groundtruth.Fatalities.values)\n",
    "    plt.plot(prediction.Fatalities.values)\n",
    "    plt.title(\"Comparison between the actual data and our predictions for the number of fatalities\")\n",
    "    plt.ylabel('Number of fatalities')\n",
    "    plt.xlabel('Date')\n",
    "    plt.xticks(range(len(prediction.Date.values)),prediction.Date.values,rotation='vertical')\n",
    "    plt.legend(['Groundtruth', 'Prediction'], loc='best')\n",
    "    plt.show()"
   ]
  },
  {
   "cell_type": "code",
   "execution_count": null,
   "metadata": {},
   "outputs": [],
   "source": [
    "display_long_term_prediction(\"Slovenia\", groundtruth_df)"
   ]
  },
  {
   "cell_type": "code",
   "execution_count": null,
   "metadata": {},
   "outputs": [],
   "source": [
    "display_long_term_prediction(\"Taiwan*\", groundtruth_df)"
   ]
  },
  {
   "cell_type": "code",
   "execution_count": null,
   "metadata": {},
   "outputs": [],
   "source": [
    "display_long_term_prediction(\"Iran\", groundtruth_df)"
   ]
  },
  {
   "cell_type": "markdown",
   "metadata": {},
   "source": [
    "# 9. Generating the submission file"
   ]
  },
  {
   "cell_type": "code",
   "execution_count": null,
   "metadata": {},
   "outputs": [],
   "source": [
    "test_df = gpd.read_file(\"/kaggle/input/covid19-global-forecasting-week-3/test.csv\")\n",
    "#The country_region got modifying in the enriched dataset by @optimo, \n",
    "# so we have to apply the same change to the test Dataframe.\n",
    "test_df[\"Country_Region\"] = [ row.Country_Region if row.Province_State==\"\" else row.Country_Region+\"_\"+row.Province_State for idx,row in test_df.iterrows() ]\n",
    "test_df.head()"
   ]
  },
  {
   "cell_type": "markdown",
   "metadata": {},
   "source": [
    "Just need to do this little trick to extract the relevant date and the forecastId and add that to the submission file."
   ]
  },
  {
   "cell_type": "code",
   "execution_count": null,
   "metadata": {},
   "outputs": [],
   "source": [
    "submission_df = pd.DataFrame(columns=[\"ForecastId\",\"ConfirmedCases\",\"Fatalities\"])\n",
    "with tqdm(total=len(test_df)) as pbar:\n",
    "    for idx, row in test_df.iterrows():\n",
    "        #Had to remove single quotes because of countries like Cote D'Ivoire for example\n",
    "        country_region = row.Country_Region.replace(\"'\",\"\").strip(\" \")\n",
    "        province_state = row.Province_State.replace(\"'\",\"\").strip(\" \")\n",
    "        item = copy_df.query(\"Country_Region=='\"+country_region+\"' and Province_State=='\"+province_state+\"' and Date=='\"+row.Date+\"'\")\n",
    "        submission_df = submission_df.append({\"ForecastId\":row.ForecastId,\n",
    "                                              \"ConfirmedCases\":int(item.ConfirmedCases.values[0]),\n",
    "                                              \"Fatalities\":int(item.Fatalities.values[0])},\n",
    "                                             ignore_index=True)\n",
    "        pbar.update(1)"
   ]
  },
  {
   "cell_type": "code",
   "execution_count": null,
   "metadata": {},
   "outputs": [],
   "source": [
    "submission_df.sample(20)"
   ]
  },
  {
   "cell_type": "code",
   "execution_count": null,
   "metadata": {},
   "outputs": [],
   "source": [
    "submission_df.to_csv(\"submission.csv\",index=False)"
   ]
  },
  {
   "cell_type": "markdown",
   "metadata": {},
   "source": [
    "# 10. Conclusion"
   ]
  },
  {
   "cell_type": "markdown",
   "metadata": {},
   "source": [
    "As there is still \"little\" data available for such kind of model, it was clearly an ambitious approach but I was curious to see how far we could go with such solution. It appears that the model was reasonably good at predicting the earlier stages of the spread when the numbers are still in the few hundreds, but then it seems to plateau far too early. It also appears to be performing awfully in countries when the outbreaks are already at an advanced stage. \n",
    "When looking back at the version notes, it seems that adding information about the regions improved the model's performance in a minor with significant manner. Information about the restrictions on populations over time showed more impact than demographic information such as the number of hospital beds or density of population.\n",
    "While many other models have demonstrated far better results, I think this \"naive\" model could be interesting on the long run as more data become available, mostly due to how easy it is to integrate more new inputs to the model."
   ]
  },
  {
   "cell_type": "markdown",
   "metadata": {},
   "source": [
    "### If you found this notebook helpful, please give it an upvote. It will be greatly appreciated!"
   ]
  }
 ],
 "metadata": {
  "kernelspec": {
   "display_name": "Python 3",
   "language": "python",
   "name": "python3"
  },
  "language_info": {
   "codemirror_mode": {
    "name": "ipython",
    "version": 3
   },
   "file_extension": ".py",
   "mimetype": "text/x-python",
   "name": "python",
   "nbconvert_exporter": "python",
   "pygments_lexer": "ipython3",
   "version": "3.7.3"
  }
 },
 "nbformat": 4,
 "nbformat_minor": 4
}
